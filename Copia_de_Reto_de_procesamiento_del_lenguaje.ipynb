{
  "nbformat": 4,
  "nbformat_minor": 0,
  "metadata": {
    "colab": {
      "name": "Copia de Reto_de_procesamiento_del_lenguaje.ipynb",
      "provenance": [],
      "collapsed_sections": [],
      "include_colab_link": true
    },
    "kernelspec": {
      "name": "python3",
      "display_name": "Python 3"
    },
    "language_info": {
      "name": "python"
    },
    "gpuClass": "standard"
  },
  "cells": [
    {
      "cell_type": "markdown",
      "metadata": {
        "id": "view-in-github",
        "colab_type": "text"
      },
      "source": [
        "<a href=\"https://colab.research.google.com/github/jose803196/Otros/blob/main/Copia_de_Reto_de_procesamiento_del_lenguaje.ipynb\" target=\"_parent\"><img src=\"https://colab.research.google.com/assets/colab-badge.svg\" alt=\"Open In Colab\"/></a>"
      ]
    },
    {
      "cell_type": "markdown",
      "source": [
        "Cargando la base de datos de 50000 reseñas cortas de películas (limitando a 10000 palabras). Carga 25000 para entrenamiento y 25000 para pruebas"
      ],
      "metadata": {
        "id": "jTvuRk1HPhUh"
      }
    },
    {
      "cell_type": "code",
      "source": [
        "import numpy as np\n",
        "from tensorflow.keras.datasets import imdb\n",
        "(train_data, train_labels), (test_data, test_labels) = imdb.load_data(\n",
        "    num_words=10000)\n",
        "print('Tamaño del conjunto de entrenamiento',train_data.size)\n",
        "print('Tamaño del conjunto de prueba',test_data.size)"
      ],
      "metadata": {
        "id": "7oXSWIZ6Phe3",
        "colab": {
          "base_uri": "https://localhost:8080/"
        },
        "outputId": "79bc07fb-0f8d-4b1c-842a-54b3041d18f6"
      },
      "execution_count": null,
      "outputs": [
        {
          "output_type": "stream",
          "name": "stdout",
          "text": [
            "Tamaño del conjunto de entrenamiento 25000\n",
            "Tamaño del conjunto de prueba 25000\n"
          ]
        }
      ]
    },
    {
      "cell_type": "markdown",
      "source": [
        "Calificación de la primera reseña (0-mala, 1-buena)"
      ],
      "metadata": {
        "id": "MzGqsH3UlaAw"
      }
    },
    {
      "cell_type": "code",
      "source": [
        "train_labels[0]"
      ],
      "metadata": {
        "colab": {
          "base_uri": "https://localhost:8080/"
        },
        "id": "EM1MQ3G0dUjU",
        "outputId": "6f69ba2a-7283-4251-8dcd-f2f7d2b73e3f"
      },
      "execution_count": null,
      "outputs": [
        {
          "output_type": "execute_result",
          "data": {
            "text/plain": [
              "1"
            ]
          },
          "metadata": {},
          "execution_count": 35
        }
      ]
    },
    {
      "cell_type": "markdown",
      "source": [
        "Decodificando las reseñas a texto"
      ],
      "metadata": {
        "id": "w77oOLAfdeN7"
      }
    },
    {
      "cell_type": "code",
      "source": [
        "word_index = imdb.get_word_index()\n",
        "reverse_word_index = dict(\n",
        "    [(value, key) for (key, value) in word_index.items()])\n",
        "decoded_review = \" \".join(\n",
        "    [reverse_word_index.get(i - 3, \"?\") for i in train_data[0]])\n",
        "print(decoded_review)"
      ],
      "metadata": {
        "colab": {
          "base_uri": "https://localhost:8080/"
        },
        "id": "9FoG5wdmdeU8",
        "outputId": "49652035-2c60-4474-f21f-30e25ee5b640"
      },
      "execution_count": null,
      "outputs": [
        {
          "output_type": "stream",
          "name": "stdout",
          "text": [
            "? this film was just brilliant casting location scenery story direction everyone's really suited the part they played and you could just imagine being there robert ? is an amazing actor and now the same being director ? father came from the same scottish island as myself so i loved the fact there was a real connection with this film the witty remarks throughout the film were great it was just brilliant so much that i bought the film as soon as it was released for ? and would recommend it to everyone to watch and the fly fishing was amazing really cried at the end it was so sad and you know what they say if you cry at a film it must have been good and this definitely was also ? to the two little boy's that played the ? of norman and paul they were just brilliant children are often left out of the ? list i think because the stars that play them all grown up are such a big profile for the whole film but these children are amazing and should be praised for what they have done don't you think the whole story was so lovely because it was true and was someone's life after all that was shared with us all\n"
          ]
        }
      ]
    },
    {
      "cell_type": "markdown",
      "source": [
        "Codificando la secuencia de números de cada reseña en una matriz ReseñaxPalabra. Esto produce una matriz dispersa de 0's y 1's"
      ],
      "metadata": {
        "id": "207v9yokeY-1"
      }
    },
    {
      "cell_type": "code",
      "source": [
        "import numpy as np\n",
        "def vectorize_sequences(sequences, dimension=10000):\n",
        "    results = np.zeros((len(sequences), dimension))\n",
        "    for i, sequence in enumerate(sequences):\n",
        "        for j in sequence:\n",
        "            results[i, j] = 1.\n",
        "    return results\n",
        "x_train = vectorize_sequences(train_data)\n",
        "x_test = vectorize_sequences(test_data)"
      ],
      "metadata": {
        "id": "4Jcq1l4_eZVU"
      },
      "execution_count": null,
      "outputs": []
    },
    {
      "cell_type": "markdown",
      "source": [
        "Primera reseña codificada en 0 y 1 (ausencia o presencia de palabra)"
      ],
      "metadata": {
        "id": "PXn2qn-KlxSh"
      }
    },
    {
      "cell_type": "code",
      "source": [
        "x_train[0]"
      ],
      "metadata": {
        "colab": {
          "base_uri": "https://localhost:8080/"
        },
        "id": "KB4nUj2be2Fc",
        "outputId": "7535ae98-7089-4650-d067-85231a08739d"
      },
      "execution_count": null,
      "outputs": [
        {
          "output_type": "execute_result",
          "data": {
            "text/plain": [
              "array([0., 1., 1., ..., 0., 0., 0.])"
            ]
          },
          "metadata": {},
          "execution_count": 38
        }
      ]
    },
    {
      "cell_type": "markdown",
      "source": [
        "Dimension de la matriz dispersa de datos de entrenamiento"
      ],
      "metadata": {
        "id": "wNseYxhfmOq_"
      }
    },
    {
      "cell_type": "code",
      "source": [
        "x_train.shape"
      ],
      "metadata": {
        "colab": {
          "base_uri": "https://localhost:8080/"
        },
        "id": "0WJRfo78mO3G",
        "outputId": "45a50900-dff9-4dd3-97d0-f2dc9d0ab3ea"
      },
      "execution_count": null,
      "outputs": [
        {
          "output_type": "execute_result",
          "data": {
            "text/plain": [
              "(25000, 10000)"
            ]
          },
          "metadata": {},
          "execution_count": 39
        }
      ]
    },
    {
      "cell_type": "markdown",
      "source": [
        "Transformar el tipo de las matrices de etiquetas"
      ],
      "metadata": {
        "id": "tPqoN9YLnKSr"
      }
    },
    {
      "cell_type": "code",
      "source": [
        "y_train = np.asarray(train_labels).astype(\"float32\")\n",
        "y_test = np.asarray(test_labels).astype(\"float32\")"
      ],
      "metadata": {
        "id": "lj-d9dMWe2IZ"
      },
      "execution_count": null,
      "outputs": []
    },
    {
      "cell_type": "markdown",
      "source": [
        "Definición del modelo"
      ],
      "metadata": {
        "id": "4gtwFkrxfIIV"
      }
    },
    {
      "cell_type": "code",
      "source": [
        "from tensorflow import keras\n",
        "from tensorflow.keras import layers\n",
        "\n",
        "inputs = keras.Input(shape=(10000))\n",
        "x = layers.Flatten()(inputs)\n",
        "outputs = layers.Dense(1, activation=\"sigmoid\")(x)\n",
        "model = keras.Model(inputs=inputs, outputs=outputs)\n",
        "model.summary()"
      ],
      "metadata": {
        "id": "Hs1piqnQfIUG",
        "colab": {
          "base_uri": "https://localhost:8080/"
        },
        "outputId": "23c7bdaf-aa14-480a-dc01-ee39bf467f66"
      },
      "execution_count": null,
      "outputs": [
        {
          "output_type": "stream",
          "name": "stdout",
          "text": [
            "Model: \"model_1\"\n",
            "_________________________________________________________________\n",
            " Layer (type)                Output Shape              Param #   \n",
            "=================================================================\n",
            " input_2 (InputLayer)        [(None, 10000)]           0         \n",
            "                                                                 \n",
            " flatten_1 (Flatten)         (None, 10000)             0         \n",
            "                                                                 \n",
            " dense_1 (Dense)             (None, 1)                 10001     \n",
            "                                                                 \n",
            "=================================================================\n",
            "Total params: 10,001\n",
            "Trainable params: 10,001\n",
            "Non-trainable params: 0\n",
            "_________________________________________________________________\n"
          ]
        }
      ]
    },
    {
      "cell_type": "markdown",
      "source": [
        "Parametrizar el modelo"
      ],
      "metadata": {
        "id": "jY86Zk32fT4e"
      }
    },
    {
      "cell_type": "code",
      "source": [
        "model.compile(optimizer=\"Nadam\",\n",
        "              loss=\"Poisson\",\n",
        "              metrics=[\"accuracy\"])"
      ],
      "metadata": {
        "id": "aoxkpk-5fUCq"
      },
      "execution_count": null,
      "outputs": []
    },
    {
      "cell_type": "markdown",
      "source": [
        "Definir el conjunto de validación y quedan 10000 para validacion y 15000 para entrenamiento"
      ],
      "metadata": {
        "id": "_3B2PJrMfdwQ"
      }
    },
    {
      "cell_type": "code",
      "source": [
        "x_val = x_train[:10000]\n",
        "partial_x_train = x_train[10000:]\n",
        "y_val = y_train[:10000]\n",
        "partial_y_train = y_train[10000:]\n"
      ],
      "metadata": {
        "id": "6cYUyiqvfeB_"
      },
      "execution_count": null,
      "outputs": []
    },
    {
      "cell_type": "markdown",
      "source": [
        "Entrenar el modelo"
      ],
      "metadata": {
        "id": "LoYy7K-4fqpZ"
      }
    },
    {
      "cell_type": "code",
      "source": [
        "history = model.fit(partial_x_train,\n",
        "                    partial_y_train,\n",
        "                    epochs=100,\n",
        "                    batch_size=512,\n",
        "                    validation_data=(x_val, y_val))"
      ],
      "metadata": {
        "colab": {
          "base_uri": "https://localhost:8080/"
        },
        "id": "IAg9UpCEfqxn",
        "outputId": "6ccceead-6753-44dd-e0e3-287e8e813fa4"
      },
      "execution_count": null,
      "outputs": [
        {
          "output_type": "stream",
          "name": "stdout",
          "text": [
            "Epoch 1/100\n",
            "30/30 [==============================] - 1s 39ms/step - loss: 0.5752 - accuracy: 0.9507 - val_loss: 0.6512 - val_accuracy: 0.8746\n",
            "Epoch 2/100\n",
            "30/30 [==============================] - 1s 17ms/step - loss: 0.5736 - accuracy: 0.9518 - val_loss: 0.6510 - val_accuracy: 0.8747\n",
            "Epoch 3/100\n",
            "30/30 [==============================] - 0s 17ms/step - loss: 0.5721 - accuracy: 0.9528 - val_loss: 0.6512 - val_accuracy: 0.8749\n",
            "Epoch 4/100\n",
            "30/30 [==============================] - 1s 22ms/step - loss: 0.5707 - accuracy: 0.9537 - val_loss: 0.6492 - val_accuracy: 0.8780\n",
            "Epoch 5/100\n",
            "30/30 [==============================] - 1s 22ms/step - loss: 0.5693 - accuracy: 0.9557 - val_loss: 0.6521 - val_accuracy: 0.8738\n",
            "Epoch 6/100\n",
            "30/30 [==============================] - 1s 17ms/step - loss: 0.5680 - accuracy: 0.9560 - val_loss: 0.6518 - val_accuracy: 0.8747\n",
            "Epoch 7/100\n",
            "30/30 [==============================] - 1s 22ms/step - loss: 0.5668 - accuracy: 0.9569 - val_loss: 0.6524 - val_accuracy: 0.8737\n",
            "Epoch 8/100\n",
            "30/30 [==============================] - 0s 17ms/step - loss: 0.5655 - accuracy: 0.9575 - val_loss: 0.6508 - val_accuracy: 0.8763\n",
            "Epoch 9/100\n",
            "30/30 [==============================] - 1s 23ms/step - loss: 0.5643 - accuracy: 0.9581 - val_loss: 0.6518 - val_accuracy: 0.8749\n",
            "Epoch 10/100\n",
            "30/30 [==============================] - 1s 17ms/step - loss: 0.5632 - accuracy: 0.9591 - val_loss: 0.6516 - val_accuracy: 0.8751\n",
            "Epoch 11/100\n",
            "30/30 [==============================] - 1s 17ms/step - loss: 0.5621 - accuracy: 0.9606 - val_loss: 0.6511 - val_accuracy: 0.8752\n",
            "Epoch 12/100\n",
            "30/30 [==============================] - 1s 17ms/step - loss: 0.5610 - accuracy: 0.9613 - val_loss: 0.6529 - val_accuracy: 0.8741\n",
            "Epoch 13/100\n",
            "30/30 [==============================] - 1s 17ms/step - loss: 0.5600 - accuracy: 0.9621 - val_loss: 0.6522 - val_accuracy: 0.8745\n",
            "Epoch 14/100\n",
            "30/30 [==============================] - 1s 17ms/step - loss: 0.5589 - accuracy: 0.9635 - val_loss: 0.6540 - val_accuracy: 0.8729\n",
            "Epoch 15/100\n",
            "30/30 [==============================] - 1s 17ms/step - loss: 0.5579 - accuracy: 0.9633 - val_loss: 0.6517 - val_accuracy: 0.8756\n",
            "Epoch 16/100\n",
            "30/30 [==============================] - 1s 17ms/step - loss: 0.5570 - accuracy: 0.9648 - val_loss: 0.6516 - val_accuracy: 0.8757\n",
            "Epoch 17/100\n",
            "30/30 [==============================] - 1s 22ms/step - loss: 0.5560 - accuracy: 0.9662 - val_loss: 0.6556 - val_accuracy: 0.8719\n",
            "Epoch 18/100\n",
            "30/30 [==============================] - 1s 17ms/step - loss: 0.5551 - accuracy: 0.9660 - val_loss: 0.6563 - val_accuracy: 0.8714\n",
            "Epoch 19/100\n",
            "30/30 [==============================] - 0s 16ms/step - loss: 0.5543 - accuracy: 0.9663 - val_loss: 0.6529 - val_accuracy: 0.8745\n",
            "Epoch 20/100\n",
            "30/30 [==============================] - 1s 18ms/step - loss: 0.5534 - accuracy: 0.9674 - val_loss: 0.6543 - val_accuracy: 0.8737\n",
            "Epoch 21/100\n",
            "30/30 [==============================] - 1s 17ms/step - loss: 0.5525 - accuracy: 0.9678 - val_loss: 0.6536 - val_accuracy: 0.8743\n",
            "Epoch 22/100\n",
            "30/30 [==============================] - 1s 22ms/step - loss: 0.5517 - accuracy: 0.9686 - val_loss: 0.6531 - val_accuracy: 0.8746\n",
            "Epoch 23/100\n",
            "30/30 [==============================] - 1s 17ms/step - loss: 0.5509 - accuracy: 0.9700 - val_loss: 0.6541 - val_accuracy: 0.8740\n",
            "Epoch 24/100\n",
            "30/30 [==============================] - 1s 22ms/step - loss: 0.5502 - accuracy: 0.9702 - val_loss: 0.6545 - val_accuracy: 0.8736\n",
            "Epoch 25/100\n",
            "30/30 [==============================] - 1s 22ms/step - loss: 0.5494 - accuracy: 0.9707 - val_loss: 0.6561 - val_accuracy: 0.8740\n",
            "Epoch 26/100\n",
            "30/30 [==============================] - 1s 17ms/step - loss: 0.5486 - accuracy: 0.9714 - val_loss: 0.6564 - val_accuracy: 0.8732\n",
            "Epoch 27/100\n",
            "30/30 [==============================] - 1s 22ms/step - loss: 0.5479 - accuracy: 0.9717 - val_loss: 0.6569 - val_accuracy: 0.8729\n",
            "Epoch 28/100\n",
            "30/30 [==============================] - 1s 17ms/step - loss: 0.5472 - accuracy: 0.9717 - val_loss: 0.6570 - val_accuracy: 0.8727\n",
            "Epoch 29/100\n",
            "30/30 [==============================] - 1s 17ms/step - loss: 0.5465 - accuracy: 0.9728 - val_loss: 0.6574 - val_accuracy: 0.8721\n",
            "Epoch 30/100\n",
            "30/30 [==============================] - 1s 17ms/step - loss: 0.5459 - accuracy: 0.9731 - val_loss: 0.6577 - val_accuracy: 0.8718\n",
            "Epoch 31/100\n",
            "30/30 [==============================] - 1s 17ms/step - loss: 0.5452 - accuracy: 0.9737 - val_loss: 0.6584 - val_accuracy: 0.8714\n",
            "Epoch 32/100\n",
            "30/30 [==============================] - 1s 22ms/step - loss: 0.5445 - accuracy: 0.9739 - val_loss: 0.6578 - val_accuracy: 0.8723\n",
            "Epoch 33/100\n",
            "30/30 [==============================] - 1s 18ms/step - loss: 0.5439 - accuracy: 0.9749 - val_loss: 0.6580 - val_accuracy: 0.8722\n",
            "Epoch 34/100\n",
            "30/30 [==============================] - 1s 22ms/step - loss: 0.5433 - accuracy: 0.9755 - val_loss: 0.6604 - val_accuracy: 0.8704\n",
            "Epoch 35/100\n",
            "30/30 [==============================] - 1s 18ms/step - loss: 0.5427 - accuracy: 0.9751 - val_loss: 0.6604 - val_accuracy: 0.8706\n",
            "Epoch 36/100\n",
            "30/30 [==============================] - 1s 17ms/step - loss: 0.5420 - accuracy: 0.9763 - val_loss: 0.6633 - val_accuracy: 0.8695\n",
            "Epoch 37/100\n",
            "30/30 [==============================] - 1s 17ms/step - loss: 0.5415 - accuracy: 0.9766 - val_loss: 0.6597 - val_accuracy: 0.8719\n",
            "Epoch 38/100\n",
            "30/30 [==============================] - 0s 17ms/step - loss: 0.5409 - accuracy: 0.9772 - val_loss: 0.6612 - val_accuracy: 0.8706\n",
            "Epoch 39/100\n",
            "30/30 [==============================] - 1s 17ms/step - loss: 0.5403 - accuracy: 0.9777 - val_loss: 0.6611 - val_accuracy: 0.8715\n",
            "Epoch 40/100\n",
            "30/30 [==============================] - 1s 23ms/step - loss: 0.5398 - accuracy: 0.9786 - val_loss: 0.6630 - val_accuracy: 0.8701\n",
            "Epoch 41/100\n",
            "30/30 [==============================] - 1s 17ms/step - loss: 0.5392 - accuracy: 0.9789 - val_loss: 0.6625 - val_accuracy: 0.8711\n",
            "Epoch 42/100\n",
            "30/30 [==============================] - 1s 17ms/step - loss: 0.5387 - accuracy: 0.9791 - val_loss: 0.6652 - val_accuracy: 0.8697\n",
            "Epoch 43/100\n",
            "30/30 [==============================] - 1s 17ms/step - loss: 0.5382 - accuracy: 0.9791 - val_loss: 0.6629 - val_accuracy: 0.8716\n",
            "Epoch 44/100\n",
            "30/30 [==============================] - 1s 18ms/step - loss: 0.5376 - accuracy: 0.9795 - val_loss: 0.6657 - val_accuracy: 0.8700\n",
            "Epoch 45/100\n",
            "30/30 [==============================] - 1s 17ms/step - loss: 0.5371 - accuracy: 0.9801 - val_loss: 0.6634 - val_accuracy: 0.8715\n",
            "Epoch 46/100\n",
            "30/30 [==============================] - 1s 17ms/step - loss: 0.5367 - accuracy: 0.9807 - val_loss: 0.6645 - val_accuracy: 0.8711\n",
            "Epoch 47/100\n",
            "30/30 [==============================] - 1s 23ms/step - loss: 0.5361 - accuracy: 0.9810 - val_loss: 0.6682 - val_accuracy: 0.8687\n",
            "Epoch 48/100\n",
            "30/30 [==============================] - 1s 22ms/step - loss: 0.5357 - accuracy: 0.9809 - val_loss: 0.6673 - val_accuracy: 0.8702\n",
            "Epoch 49/100\n",
            "30/30 [==============================] - 1s 22ms/step - loss: 0.5352 - accuracy: 0.9817 - val_loss: 0.6674 - val_accuracy: 0.8706\n",
            "Epoch 50/100\n",
            "30/30 [==============================] - 1s 17ms/step - loss: 0.5348 - accuracy: 0.9819 - val_loss: 0.6688 - val_accuracy: 0.8696\n",
            "Epoch 51/100\n",
            "30/30 [==============================] - 1s 22ms/step - loss: 0.5343 - accuracy: 0.9817 - val_loss: 0.6686 - val_accuracy: 0.8698\n",
            "Epoch 52/100\n",
            "30/30 [==============================] - 1s 17ms/step - loss: 0.5339 - accuracy: 0.9819 - val_loss: 0.6656 - val_accuracy: 0.8714\n",
            "Epoch 53/100\n",
            "30/30 [==============================] - 1s 17ms/step - loss: 0.5334 - accuracy: 0.9832 - val_loss: 0.6711 - val_accuracy: 0.8691\n",
            "Epoch 54/100\n",
            "30/30 [==============================] - 1s 17ms/step - loss: 0.5330 - accuracy: 0.9827 - val_loss: 0.6681 - val_accuracy: 0.8699\n",
            "Epoch 55/100\n",
            "30/30 [==============================] - 1s 23ms/step - loss: 0.5326 - accuracy: 0.9836 - val_loss: 0.6705 - val_accuracy: 0.8690\n",
            "Epoch 56/100\n",
            "30/30 [==============================] - 1s 17ms/step - loss: 0.5322 - accuracy: 0.9835 - val_loss: 0.6686 - val_accuracy: 0.8701\n",
            "Epoch 57/100\n",
            "30/30 [==============================] - 1s 23ms/step - loss: 0.5317 - accuracy: 0.9843 - val_loss: 0.6747 - val_accuracy: 0.8666\n",
            "Epoch 58/100\n",
            "30/30 [==============================] - 1s 17ms/step - loss: 0.5314 - accuracy: 0.9842 - val_loss: 0.6722 - val_accuracy: 0.8689\n",
            "Epoch 59/100\n",
            "30/30 [==============================] - 1s 23ms/step - loss: 0.5309 - accuracy: 0.9843 - val_loss: 0.6719 - val_accuracy: 0.8687\n",
            "Epoch 60/100\n",
            "30/30 [==============================] - 1s 22ms/step - loss: 0.5306 - accuracy: 0.9847 - val_loss: 0.6723 - val_accuracy: 0.8689\n",
            "Epoch 61/100\n",
            "30/30 [==============================] - 1s 17ms/step - loss: 0.5302 - accuracy: 0.9850 - val_loss: 0.6729 - val_accuracy: 0.8686\n",
            "Epoch 62/100\n",
            "30/30 [==============================] - 1s 17ms/step - loss: 0.5298 - accuracy: 0.9855 - val_loss: 0.6743 - val_accuracy: 0.8683\n",
            "Epoch 63/100\n",
            "30/30 [==============================] - 0s 17ms/step - loss: 0.5294 - accuracy: 0.9856 - val_loss: 0.6737 - val_accuracy: 0.8682\n",
            "Epoch 64/100\n",
            "30/30 [==============================] - 1s 23ms/step - loss: 0.5291 - accuracy: 0.9859 - val_loss: 0.6730 - val_accuracy: 0.8690\n",
            "Epoch 65/100\n",
            "30/30 [==============================] - 1s 17ms/step - loss: 0.5287 - accuracy: 0.9865 - val_loss: 0.6767 - val_accuracy: 0.8670\n",
            "Epoch 66/100\n",
            "30/30 [==============================] - 1s 23ms/step - loss: 0.5283 - accuracy: 0.9871 - val_loss: 0.6759 - val_accuracy: 0.8678\n",
            "Epoch 67/100\n",
            "30/30 [==============================] - 1s 23ms/step - loss: 0.5280 - accuracy: 0.9874 - val_loss: 0.6774 - val_accuracy: 0.8671\n",
            "Epoch 68/100\n",
            "30/30 [==============================] - 1s 17ms/step - loss: 0.5276 - accuracy: 0.9873 - val_loss: 0.6787 - val_accuracy: 0.8663\n",
            "Epoch 69/100\n",
            "30/30 [==============================] - 1s 23ms/step - loss: 0.5273 - accuracy: 0.9875 - val_loss: 0.6780 - val_accuracy: 0.8667\n",
            "Epoch 70/100\n",
            "30/30 [==============================] - 1s 18ms/step - loss: 0.5270 - accuracy: 0.9875 - val_loss: 0.6769 - val_accuracy: 0.8673\n",
            "Epoch 71/100\n",
            "30/30 [==============================] - 1s 17ms/step - loss: 0.5266 - accuracy: 0.9884 - val_loss: 0.6804 - val_accuracy: 0.8652\n",
            "Epoch 72/100\n",
            "30/30 [==============================] - 1s 17ms/step - loss: 0.5263 - accuracy: 0.9881 - val_loss: 0.6801 - val_accuracy: 0.8659\n",
            "Epoch 73/100\n",
            "30/30 [==============================] - 1s 17ms/step - loss: 0.5260 - accuracy: 0.9886 - val_loss: 0.6797 - val_accuracy: 0.8664\n",
            "Epoch 74/100\n",
            "30/30 [==============================] - 1s 22ms/step - loss: 0.5257 - accuracy: 0.9888 - val_loss: 0.6826 - val_accuracy: 0.8649\n",
            "Epoch 75/100\n",
            "30/30 [==============================] - 1s 17ms/step - loss: 0.5254 - accuracy: 0.9891 - val_loss: 0.6816 - val_accuracy: 0.8652\n",
            "Epoch 76/100\n",
            "30/30 [==============================] - 1s 23ms/step - loss: 0.5251 - accuracy: 0.9895 - val_loss: 0.6827 - val_accuracy: 0.8651\n",
            "Epoch 77/100\n",
            "30/30 [==============================] - 1s 22ms/step - loss: 0.5248 - accuracy: 0.9903 - val_loss: 0.6811 - val_accuracy: 0.8670\n",
            "Epoch 78/100\n",
            "30/30 [==============================] - 1s 18ms/step - loss: 0.5244 - accuracy: 0.9904 - val_loss: 0.6854 - val_accuracy: 0.8641\n",
            "Epoch 79/100\n",
            "30/30 [==============================] - 1s 22ms/step - loss: 0.5242 - accuracy: 0.9900 - val_loss: 0.6827 - val_accuracy: 0.8660\n",
            "Epoch 80/100\n",
            "30/30 [==============================] - 1s 17ms/step - loss: 0.5239 - accuracy: 0.9905 - val_loss: 0.6833 - val_accuracy: 0.8663\n",
            "Epoch 81/100\n",
            "30/30 [==============================] - 1s 17ms/step - loss: 0.5236 - accuracy: 0.9907 - val_loss: 0.6822 - val_accuracy: 0.8671\n",
            "Epoch 82/100\n",
            "30/30 [==============================] - 1s 22ms/step - loss: 0.5233 - accuracy: 0.9906 - val_loss: 0.6825 - val_accuracy: 0.8673\n",
            "Epoch 83/100\n",
            "30/30 [==============================] - 1s 17ms/step - loss: 0.5230 - accuracy: 0.9910 - val_loss: 0.6881 - val_accuracy: 0.8643\n",
            "Epoch 84/100\n",
            "30/30 [==============================] - 1s 17ms/step - loss: 0.5227 - accuracy: 0.9909 - val_loss: 0.6854 - val_accuracy: 0.8663\n",
            "Epoch 85/100\n",
            "30/30 [==============================] - 1s 17ms/step - loss: 0.5225 - accuracy: 0.9913 - val_loss: 0.6865 - val_accuracy: 0.8657\n",
            "Epoch 86/100\n",
            "30/30 [==============================] - 1s 17ms/step - loss: 0.5222 - accuracy: 0.9915 - val_loss: 0.6870 - val_accuracy: 0.8652\n",
            "Epoch 87/100\n",
            "30/30 [==============================] - 1s 18ms/step - loss: 0.5219 - accuracy: 0.9917 - val_loss: 0.6901 - val_accuracy: 0.8641\n",
            "Epoch 88/100\n",
            "30/30 [==============================] - 1s 17ms/step - loss: 0.5217 - accuracy: 0.9917 - val_loss: 0.6908 - val_accuracy: 0.8643\n",
            "Epoch 89/100\n",
            "30/30 [==============================] - 1s 17ms/step - loss: 0.5214 - accuracy: 0.9917 - val_loss: 0.6903 - val_accuracy: 0.8644\n",
            "Epoch 90/100\n",
            "30/30 [==============================] - 1s 22ms/step - loss: 0.5211 - accuracy: 0.9918 - val_loss: 0.6907 - val_accuracy: 0.8644\n",
            "Epoch 91/100\n",
            "30/30 [==============================] - 1s 17ms/step - loss: 0.5209 - accuracy: 0.9918 - val_loss: 0.6899 - val_accuracy: 0.8655\n",
            "Epoch 92/100\n",
            "30/30 [==============================] - 1s 18ms/step - loss: 0.5206 - accuracy: 0.9923 - val_loss: 0.6935 - val_accuracy: 0.8639\n",
            "Epoch 93/100\n",
            "30/30 [==============================] - 1s 17ms/step - loss: 0.5204 - accuracy: 0.9923 - val_loss: 0.6927 - val_accuracy: 0.8642\n",
            "Epoch 94/100\n",
            "30/30 [==============================] - 1s 22ms/step - loss: 0.5201 - accuracy: 0.9925 - val_loss: 0.6915 - val_accuracy: 0.8652\n",
            "Epoch 95/100\n",
            "30/30 [==============================] - 1s 22ms/step - loss: 0.5199 - accuracy: 0.9927 - val_loss: 0.6936 - val_accuracy: 0.8646\n",
            "Epoch 96/100\n",
            "30/30 [==============================] - 1s 17ms/step - loss: 0.5197 - accuracy: 0.9929 - val_loss: 0.6964 - val_accuracy: 0.8632\n",
            "Epoch 97/100\n",
            "30/30 [==============================] - 1s 22ms/step - loss: 0.5194 - accuracy: 0.9930 - val_loss: 0.6956 - val_accuracy: 0.8642\n",
            "Epoch 98/100\n",
            "30/30 [==============================] - 1s 17ms/step - loss: 0.5192 - accuracy: 0.9931 - val_loss: 0.6928 - val_accuracy: 0.8658\n",
            "Epoch 99/100\n",
            "30/30 [==============================] - 1s 17ms/step - loss: 0.5190 - accuracy: 0.9934 - val_loss: 0.6953 - val_accuracy: 0.8646\n",
            "Epoch 100/100\n",
            "30/30 [==============================] - 1s 22ms/step - loss: 0.5187 - accuracy: 0.9935 - val_loss: 0.6980 - val_accuracy: 0.8634\n"
          ]
        }
      ]
    },
    {
      "cell_type": "markdown",
      "source": [
        "Graficar la pérdida del conjunto de validación durante el entrenamiento"
      ],
      "metadata": {
        "id": "v-yUf26dgQSq"
      }
    },
    {
      "cell_type": "code",
      "source": [
        "import matplotlib.pyplot as plt\n",
        "history_dict = history.history\n",
        "loss_values = history_dict[\"loss\"]\n",
        "val_loss_values = history_dict[\"val_loss\"]\n",
        "epochs = range(1, len(loss_values) + 1)\n",
        "plt.plot(epochs, loss_values, \"bo\", label=\"Training loss\")\n",
        "plt.plot(epochs, val_loss_values, \"b\", label=\"Validation loss\")\n",
        "plt.title(\"Training and validation loss\")\n",
        "plt.xlabel(\"Epochs\")\n",
        "plt.ylabel(\"Loss\")\n",
        "plt.legend()\n",
        "plt.show()\n",
        "\n",
        "plt.clf()\n",
        "acc = history_dict[\"accuracy\"]\n",
        "val_acc = history_dict[\"val_accuracy\"]\n",
        "plt.plot(epochs, acc, \"bo\", label=\"Training acc\")\n",
        "plt.plot(epochs, val_acc, \"b\", label=\"Validation acc\")\n",
        "plt.title(\"Training and validation accuracy\")\n",
        "plt.xlabel(\"Epochs\")\n",
        "plt.ylabel(\"Accuracy\")\n",
        "plt.legend()\n",
        "plt.show()"
      ],
      "metadata": {
        "id": "WnoqnYUegQc0",
        "colab": {
          "base_uri": "https://localhost:8080/",
          "height": 573
        },
        "outputId": "edfc44df-20ca-48d9-e9c7-dd0c18562172"
      },
      "execution_count": null,
      "outputs": [
        {
          "output_type": "display_data",
          "data": {
            "text/plain": [
              "<Figure size 432x288 with 1 Axes>"
            ],
            "image/png": "[encoded data removed]"
          },
          "metadata": {
            "needs_background": "light"
          }
        },
        {
          "output_type": "display_data",
          "data": {
            "text/plain": [
              "<Figure size 432x288 with 1 Axes>"
            ],
            "image/png": "[encoded data removed]"
          },
          "metadata": {
            "needs_background": "light"
          }
        }
      ]
    },
    {
      "cell_type": "markdown",
      "source": [
        "Graficar la precisión (accuracy) del conjunto de validación durante el entrenamiento"
      ],
      "metadata": {
        "id": "32RP-ForgZVJ"
      }
    },
    {
      "cell_type": "code",
      "source": [
        ""
      ],
      "metadata": {
        "id": "J8WZ5fiqgklT"
      },
      "execution_count": null,
      "outputs": []
    },
    {
      "cell_type": "markdown",
      "source": [
        "Matriz de confusión\n"
      ],
      "metadata": {
        "id": "z1CREshETmd7"
      }
    },
    {
      "cell_type": "code",
      "source": [
        "print(test_labels)"
      ],
      "metadata": {
        "colab": {
          "base_uri": "https://localhost:8080/"
        },
        "id": "Hta2-W4mUUxL",
        "outputId": "3ba3a523-4e54-4e99-c824-464fc5c51697"
      },
      "execution_count": null,
      "outputs": [
        {
          "output_type": "stream",
          "name": "stdout",
          "text": [
            "[0 1 1 ... 0 0 0]\n"
          ]
        }
      ]
    },
    {
      "cell_type": "code",
      "source": [
        "from sklearn.metrics import confusion_matrix, ConfusionMatrixDisplay\n",
        "test_predictions = model.predict(x_test)\n",
        "cm = confusion_matrix(test_labels, test_predictions > 0.5)\n",
        "disp = ConfusionMatrixDisplay(confusion_matrix=cm)\n",
        "disp.plot()"
      ],
      "metadata": {
        "colab": {
          "base_uri": "https://localhost:8080/",
          "height": 298
        },
        "id": "wCS8qop-TsF6",
        "outputId": "c5d803b7-6710-4a95-a6e8-f8bb2f27a255"
      },
      "execution_count": null,
      "outputs": [
        {
          "output_type": "execute_result",
          "data": {
            "text/plain": [
              "<sklearn.metrics._plot.confusion_matrix.ConfusionMatrixDisplay at 0x7f1715ac7090>"
            ]
          },
          "metadata": {},
          "execution_count": 51
        },
        {
          "output_type": "display_data",
          "data": {
            "text/plain": [
              "<Figure size 432x288 with 2 Axes>"
            ],
            "image/png": "[encoded data removed]"
          },
          "metadata": {
            "needs_background": "light"
          }
        }
      ]
    },
    {
      "cell_type": "markdown",
      "source": [
        "Cálculo de la exactitud (en inglés, accurracy)"
      ],
      "metadata": {
        "id": "KvDGnbTXajpU"
      }
    },
    {
      "cell_type": "code",
      "source": [
        "from sklearn.metrics import accuracy_score\n",
        "print(accuracy_score(test_labels, test_predictions > 0.5))"
      ],
      "metadata": {
        "id": "Cx5HTs8Man_z",
        "outputId": "d4af2448-00ec-4017-b097-4364538a3d39",
        "colab": {
          "base_uri": "https://localhost:8080/"
        }
      },
      "execution_count": null,
      "outputs": [
        {
          "output_type": "stream",
          "name": "stdout",
          "text": [
            "0.86304\n"
          ]
        }
      ]
    },
    {
      "cell_type": "markdown",
      "source": [
        "**Ejercicio:**\n",
        "\n",
        "Desarrollar un modelo que tenga la mejor exactitud (en inglés, accurracy) posible en el conjunto de prueba (en inglés, test). Para lograrlo, hay que hacer un entrenamiento sin sobreajustar (en inglés, overfit)"
      ],
      "metadata": {
        "id": "BavkJVRvkwZG"
      }
    }
  ]
}